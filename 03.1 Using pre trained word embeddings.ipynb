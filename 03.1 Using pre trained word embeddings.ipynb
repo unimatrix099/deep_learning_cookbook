{
 "cells": [
  {
   "cell_type": "markdown",
   "metadata": {},
   "source": [
    "## Text Similarity using Word Embeddings\n",
    "\n",
    "In this notebook we're going to play around with pre build word embeddings and do some fun calculations:"
   ]
  },
  {
   "cell_type": "code",
   "execution_count": 2,
   "metadata": {},
   "outputs": [
    {
     "name": "stderr",
     "output_type": "stream",
     "text": [
      "2024-09-18 11:24:34.354957: I tensorflow/core/platform/cpu_feature_guard.cc:182] This TensorFlow binary is optimized to use available CPU instructions in performance-critical operations.\n",
      "To enable the following instructions: AVX2 FMA, in other operations, rebuild TensorFlow with the appropriate compiler flags.\n",
      "2024-09-18 11:24:35.234273: W tensorflow/compiler/tf2tensorrt/utils/py_utils.cc:38] TF-TRT Warning: Could not find TensorRT\n"
     ]
    }
   ],
   "source": [
    "%matplotlib inline\n",
    "\n",
    "import os\n",
    "from keras.utils import get_file\n",
    "import gensim\n",
    "import subprocess\n",
    "import numpy as np\n",
    "import matplotlib.pyplot as plt\n",
    "from IPython.core.pylabtools import figsize\n",
    "figsize(10, 10)\n",
    "\n",
    "from sklearn.manifold import TSNE\n",
    "import json\n",
    "from collections import Counter\n",
    "from itertools import chain"
   ]
  },
  {
   "cell_type": "markdown",
   "metadata": {},
   "source": [
    "We'll start by downloading a pretrained model from Google News. We're using `zcat` to unzip the file, so you need to make sure you have that installed or replace it by something else."
   ]
  },
  {
   "cell_type": "code",
   "execution_count": 3,
   "metadata": {},
   "outputs": [],
   "source": [
    "MODEL = 'GoogleNews-vectors-negative300.bin'\n",
    "if not os.path.isdir('generated'):\n",
    "    os.mkdir('generated')\n",
    "\n",
    "unzipped = os.path.join('generated', MODEL)\n",
    "\n",
    "unzipped = get_file(fname=unzipped, origin='https://figshare.com/ndownloader/files/10798046')\n"
   ]
  },
  {
   "cell_type": "code",
   "execution_count": 4,
   "metadata": {},
   "outputs": [],
   "source": [
    "model = gensim.models.KeyedVectors.load_word2vec_format(unzipped, binary=True)"
   ]
  },
  {
   "cell_type": "markdown",
   "metadata": {},
   "source": [
    "Let's take this model for a spin by looking at what things are most similar to espresso. As expected, coffee like items show up:"
   ]
  },
  {
   "cell_type": "code",
   "execution_count": 5,
   "metadata": {},
   "outputs": [
    {
     "data": {
      "text/plain": [
       "[('cgi_bin', 0.6893645524978638),\n",
       " ('support.microsoft.com', 0.6809230446815491),\n",
       " ('htdocs', 0.6777032613754272),\n",
       " ('www.microsoft.com_windows', 0.675938069820404),\n",
       " ('WordPress_Drupal', 0.6727917194366455),\n",
       " ('Site_Scripting_Vulnerability', 0.6648473739624023),\n",
       " ('http://_www', 0.663672924041748),\n",
       " ('.org', 0.662851095199585),\n",
       " ('www.nashville.gov', 0.6600036025047302),\n",
       " ('sba.gov', 0.6593307256698608)]"
      ]
     },
     "execution_count": 5,
     "metadata": {},
     "output_type": "execute_result"
    }
   ],
   "source": [
    "model.most_similar(positive=['.net'])"
   ]
  },
  {
   "cell_type": "markdown",
   "metadata": {},
   "source": [
    "Now for the famous equation, what is like woman if king is like man? We create a quick method to these calculations here:"
   ]
  },
  {
   "cell_type": "code",
   "execution_count": 6,
   "metadata": {},
   "outputs": [
    {
     "data": {
      "text/plain": [
       "'queen'"
      ]
     },
     "execution_count": 6,
     "metadata": {},
     "output_type": "execute_result"
    }
   ],
   "source": [
    "def A_is_to_B_as_C_is_to(a, b, c, topn=1):\n",
    "    a, b, c = map(lambda x:x if type(x) == list else [x], (a, b, c))\n",
    "    res = model.most_similar(positive=b + c, negative=a, topn=topn)\n",
    "    if len(res):\n",
    "        if topn == 1:\n",
    "            return res[0][0]\n",
    "        return [x[0] for x in res]\n",
    "    return None\n",
    "\n",
    "A_is_to_B_as_C_is_to('man', 'woman', 'king')"
   ]
  },
  {
   "cell_type": "markdown",
   "metadata": {},
   "source": [
    "We can use this equation to acurately predict the capitals of countries by looking at what has the same relationship as Berlin has to Germany for selected countries:"
   ]
  },
  {
   "cell_type": "code",
   "execution_count": 7,
   "metadata": {},
   "outputs": [
    {
     "name": "stdout",
     "output_type": "stream",
     "text": [
      "Lancia - Italy\n",
      "Sandouville - France\n",
      "Maruti - India\n",
      "carmaker_Chery - China\n",
      "Aften - Denmark\n"
     ]
    }
   ],
   "source": [
    "for country in 'Italy', 'France', 'India', 'China','Denmark':\n",
    "    print('%s - %s' % \n",
    "          (A_is_to_B_as_C_is_to('Romania', 'Dacia', country), country))"
   ]
  },
  {
   "cell_type": "markdown",
   "metadata": {},
   "source": [
    "Or we can do the same for important products for given companies. Here we seed the products equation with two products, the iPhone for Apple and Starbucks_coffee for Starbucks. Note that numbers are replaced by # in the embedding model:"
   ]
  },
  {
   "cell_type": "code",
   "execution_count": 8,
   "metadata": {},
   "outputs": [
    {
     "name": "stdout",
     "output_type": "stream",
     "text": [
      "Romania -> beers, microbrew, vodka, wines, whiskey\n",
      "Denmark -> beers, microbrew, coffee, ale, brew\n",
      "UK -> ale, beers, whiskey, lager, microbrew\n"
     ]
    }
   ],
   "source": [
    "for company in 'Romania', 'Denmark', 'UK':\n",
    "    products = A_is_to_B_as_C_is_to(\n",
    "        ['Germany', 'France', 'India'], \n",
    "        ['beer', 'wine', 'tea'], \n",
    "        company, topn=5)\n",
    "    print('%s -> %s' % \n",
    "          (company, ', '.join(products)))"
   ]
  },
  {
   "cell_type": "markdown",
   "metadata": {},
   "source": [
    "Let's do some clustering by picking three categories of items, drinks, countries and sports:"
   ]
  },
  {
   "cell_type": "code",
   "execution_count": 9,
   "metadata": {},
   "outputs": [
    {
     "data": {
      "text/plain": [
       "18"
      ]
     },
     "execution_count": 9,
     "metadata": {},
     "output_type": "execute_result"
    }
   ],
   "source": [
    "beverages = ['espresso', 'beer', 'vodka', 'wine', 'cola', 'tea']\n",
    "countries = ['Italy', 'Germany', 'Russia', 'France', 'USA', 'India']\n",
    "sports = ['soccer', 'handball', 'hockey', 'cycling', 'basketball', 'cricket']\n",
    "\n",
    "items = beverages + countries + sports\n",
    "len(items)"
   ]
  },
  {
   "cell_type": "markdown",
   "metadata": {},
   "source": [
    "And looking up their vectors:"
   ]
  },
  {
   "cell_type": "code",
   "execution_count": 10,
   "metadata": {},
   "outputs": [
    {
     "data": {
      "text/plain": [
       "18"
      ]
     },
     "execution_count": 10,
     "metadata": {},
     "output_type": "execute_result"
    }
   ],
   "source": [
    "item_vectors = [(item, model[item]) \n",
    "                    for item in items\n",
    "                    if item in model]\n",
    "len(item_vectors)\n"
   ]
  },
  {
   "cell_type": "code",
   "execution_count": 11,
   "metadata": {},
   "outputs": [
    {
     "name": "stdout",
     "output_type": "stream",
     "text": [
      "('beer', array([-0.08740234, -0.13378906, -0.04492188,  0.37109375, -0.20898438,\n",
      "        0.07861328,  0.34960938, -0.21972656,  0.22460938,  0.24414062,\n",
      "        0.19042969, -0.41796875,  0.07666016,  0.16601562, -0.15625   ,\n",
      "        0.16113281, -0.08496094,  0.40429688,  0.23144531, -0.421875  ,\n",
      "        0.15332031,  0.24121094,  0.0255127 , -0.47265625, -0.03588867,\n",
      "        0.13378906, -0.08642578,  0.45898438,  0.09423828,  0.26367188,\n",
      "        0.04003906, -0.04833984,  0.15429688,  0.17675781, -0.08398438,\n",
      "       -0.04321289,  0.16796875, -0.28710938,  0.3125    ,  0.18164062,\n",
      "       -0.19433594, -0.28320312,  0.20996094,  0.11767578, -0.265625  ,\n",
      "       -0.07568359, -0.265625  , -0.12304688, -0.03271484, -0.21777344,\n",
      "       -0.31445312, -0.14355469, -0.05102539,  0.00665283, -0.17773438,\n",
      "       -0.15429688, -0.09716797,  0.0625    , -0.01928711, -0.07226562,\n",
      "       -0.10107422,  0.00698853, -0.25390625, -0.10253906, -0.04370117,\n",
      "       -0.234375  , -0.09619141, -0.34375   ,  0.12792969, -0.03295898,\n",
      "        0.23046875,  0.16601562,  0.31445312, -0.05761719, -0.14550781,\n",
      "       -0.02478027, -0.16601562,  0.15332031,  0.17285156, -0.51171875,\n",
      "       -0.15722656, -0.51953125, -0.08496094, -0.06689453, -0.07324219,\n",
      "       -0.10302734,  0.05273438,  0.36328125,  0.12988281, -0.11230469,\n",
      "       -0.25      ,  0.24609375,  0.11035156, -0.09179688, -0.07763672,\n",
      "        0.21289062,  0.04882812,  0.03613281, -0.03710938, -0.14550781,\n",
      "       -0.04492188,  0.1953125 ,  0.28125   ,  0.140625  ,  0.26171875,\n",
      "       -0.16601562,  0.24023438, -0.04467773, -0.328125  , -0.07714844,\n",
      "        0.0625    , -0.21777344, -0.25585938, -0.296875  , -0.11425781,\n",
      "       -0.0625    ,  0.12988281, -0.08447266, -0.03344727, -0.1953125 ,\n",
      "       -0.40820312, -0.15820312, -0.03540039, -0.2890625 , -0.08203125,\n",
      "       -0.00263977,  0.19726562, -0.01818848, -0.14257812, -0.15527344,\n",
      "       -0.20214844,  0.05224609, -0.18066406, -0.14941406, -0.16015625,\n",
      "        0.390625  ,  0.20605469, -0.13769531,  0.08984375, -0.04614258,\n",
      "        0.06982422, -0.17285156, -0.1875    , -0.14746094, -0.328125  ,\n",
      "        0.00570679,  0.21191406, -0.09375   , -0.19238281,  0.13964844,\n",
      "        0.203125  ,  0.1640625 , -0.01965332, -0.19238281, -0.0559082 ,\n",
      "        0.11035156, -0.00457764, -0.00537109, -0.44726562, -0.06079102,\n",
      "       -0.02844238, -0.19433594,  0.22851562,  0.15722656,  0.12792969,\n",
      "        0.06591797,  0.06298828,  0.16894531, -0.09082031, -0.24414062,\n",
      "       -0.140625  , -0.10888672,  0.22070312, -0.05786133, -0.32617188,\n",
      "        0.00665283,  0.12597656,  0.00585938, -0.28515625,  0.06787109,\n",
      "        0.14453125, -0.24414062, -0.1484375 ,  0.03320312,  0.05102539,\n",
      "       -0.01599121,  0.21582031,  0.27148438,  0.20507812, -0.15917969,\n",
      "        0.02209473,  0.11816406, -0.11181641,  0.22460938, -0.06201172,\n",
      "        0.24316406,  0.19140625, -0.08105469, -0.12792969, -0.18652344,\n",
      "       -0.15429688,  0.08398438,  0.01818848, -0.00218201,  0.06494141,\n",
      "       -0.03320312,  0.19921875, -0.05273438, -0.11523438,  0.20117188,\n",
      "       -0.29296875,  0.06982422, -0.00970459,  0.17480469, -0.08984375,\n",
      "       -0.17871094, -0.17578125,  0.07958984,  0.00125122,  0.20214844,\n",
      "       -0.13476562, -0.43359375,  0.08642578, -0.28710938,  0.31054688,\n",
      "        0.03662109, -0.03417969,  0.15136719,  0.12597656,  0.1953125 ,\n",
      "       -0.24023438, -0.00479126, -0.35742188,  0.38476562,  0.04492188,\n",
      "       -0.25976562,  0.12695312, -0.09228516,  0.07080078, -0.06298828,\n",
      "        0.19921875,  0.07373047, -0.24707031,  0.13671875, -0.02392578,\n",
      "       -0.13183594, -0.03735352,  0.13867188, -0.11425781, -0.08886719,\n",
      "        0.16113281, -0.0546875 ,  0.21777344,  0.10791016, -0.01367188,\n",
      "        0.140625  ,  0.05224609,  0.26367188, -0.234375  , -0.14355469,\n",
      "       -0.16210938, -0.078125  , -0.00286865,  0.2578125 ,  0.0402832 ,\n",
      "       -0.07910156, -0.15332031, -0.04492188, -0.18359375, -0.09814453,\n",
      "        0.00072861,  0.04125977, -0.125     ,  0.22167969,  0.21191406,\n",
      "        0.00080872, -0.24511719, -0.04150391, -0.10253906, -0.02978516,\n",
      "        0.03759766, -0.10693359,  0.31835938,  0.09228516, -0.0177002 ,\n",
      "       -0.04882812,  0.05102539,  0.29492188, -0.02148438,  0.19140625,\n",
      "        0.11181641, -0.14160156,  0.02819824, -0.04980469, -0.01660156,\n",
      "       -0.11425781,  0.19042969, -0.07421875,  0.20410156, -0.12011719],\n",
      "      dtype=float32))\n"
     ]
    }
   ],
   "source": [
    "print(item_vectors[1])"
   ]
  },
  {
   "cell_type": "markdown",
   "metadata": {},
   "source": [
    "Now use TSNE for clustering:"
   ]
  },
  {
   "cell_type": "code",
   "execution_count": 12,
   "metadata": {},
   "outputs": [
    {
     "name": "stdout",
     "output_type": "stream",
     "text": [
      "[t-SNE] Computing 17 nearest neighbors...\n",
      "[t-SNE] Indexed 18 samples in 0.000s...\n",
      "[t-SNE] Computed neighbors for 18 samples in 0.338s...\n",
      "[t-SNE] Computed conditional probabilities for sample 18 / 18\n",
      "[t-SNE] Mean sigma: 0.581543\n",
      "[t-SNE] Computed conditional probabilities in 0.012s\n",
      "[t-SNE] Iteration 50: error = 51.6749229, gradient norm = 0.6637846 (50 iterations in 0.081s)\n",
      "[t-SNE] Iteration 100: error = 57.3534660, gradient norm = 0.6194263 (50 iterations in 0.038s)\n",
      "[t-SNE] Iteration 150: error = 51.5204353, gradient norm = 0.6166514 (50 iterations in 0.005s)\n",
      "[t-SNE] Iteration 200: error = 51.0479965, gradient norm = 0.5633416 (50 iterations in 0.006s)\n",
      "[t-SNE] Iteration 250: error = 52.0202675, gradient norm = 0.6592502 (50 iterations in 0.005s)\n",
      "[t-SNE] KL divergence after 250 iterations with early exaggeration: 52.020267\n",
      "[t-SNE] Iteration 300: error = 0.5963283, gradient norm = 0.0154124 (50 iterations in 0.006s)\n",
      "[t-SNE] Iteration 350: error = 0.2841937, gradient norm = 0.0113494 (50 iterations in 0.005s)\n",
      "[t-SNE] Iteration 400: error = 0.1424362, gradient norm = 0.0054330 (50 iterations in 0.006s)\n",
      "[t-SNE] Iteration 450: error = 0.1123529, gradient norm = 0.0032592 (50 iterations in 0.005s)\n",
      "[t-SNE] Iteration 500: error = 0.1039409, gradient norm = 0.0018437 (50 iterations in 0.007s)\n",
      "[t-SNE] Iteration 550: error = 0.1016425, gradient norm = 0.0017534 (50 iterations in 0.005s)\n",
      "[t-SNE] Iteration 600: error = 0.0981726, gradient norm = 0.0037530 (50 iterations in 0.005s)\n",
      "[t-SNE] Iteration 650: error = 0.0951619, gradient norm = 0.0014769 (50 iterations in 0.005s)\n",
      "[t-SNE] Iteration 700: error = 0.0950816, gradient norm = 0.0015396 (50 iterations in 0.006s)\n",
      "[t-SNE] Iteration 750: error = 0.0958746, gradient norm = 0.0002262 (50 iterations in 0.006s)\n",
      "[t-SNE] Iteration 800: error = 0.0958261, gradient norm = 0.0004496 (50 iterations in 0.005s)\n",
      "[t-SNE] Iteration 850: error = 0.0955461, gradient norm = 0.0009543 (50 iterations in 0.006s)\n",
      "[t-SNE] Iteration 900: error = 0.0947897, gradient norm = 0.0021543 (50 iterations in 0.006s)\n",
      "[t-SNE] Iteration 950: error = 0.0931486, gradient norm = 0.0006531 (50 iterations in 0.006s)\n",
      "[t-SNE] Iteration 1000: error = 0.0871102, gradient norm = 0.0005591 (50 iterations in 0.006s)\n",
      "[t-SNE] KL divergence after 1000 iterations: 0.087110\n"
     ]
    }
   ],
   "source": [
    "vectors = np.asarray([x[1] for x in item_vectors])\n",
    "lengths = np.linalg.norm(vectors, axis=1)\n",
    "norm_vectors = (vectors.T / lengths).T\n",
    "\n",
    "tsne = TSNE(n_components=2, perplexity=10, verbose=2).fit_transform(norm_vectors)"
   ]
  },
  {
   "cell_type": "markdown",
   "metadata": {},
   "source": [
    "And matplotlib to show the results:"
   ]
  },
  {
   "cell_type": "code",
   "execution_count": 14,
   "metadata": {},
   "outputs": [
    {
     "data": {
      "image/png": "[encoded data removed]",
      "text/plain": [
       "<Figure size 1000x1000 with 1 Axes>"
      ]
     },
     "metadata": {},
     "output_type": "display_data"
    }
   ],
   "source": [
    "x=tsne[:,0]\n",
    "y=tsne[:,1]\n",
    "\n",
    "fig, ax = plt.subplots()\n",
    "ax.scatter(x, y)\n",
    "\n",
    "for item, x1, y1 in zip(item_vectors, x, y):\n",
    "    ax.annotate(item[0], (x1+1, y1+1), size=10)\n",
    "\n",
    "plt.show()"
   ]
  },
  {
   "cell_type": "markdown",
   "metadata": {
    "collapsed": true,
    "jupyter": {
     "outputs_hidden": true
    }
   },
   "source": [
    "As you can see, the countries, sports and drinks all form their own little clusters, with arguably cricket and India attracting each other and maybe less clear, wine and France and Italy and espresso."
   ]
  },
  {
   "cell_type": "code",
   "execution_count": null,
   "metadata": {},
   "outputs": [],
   "source": []
  }
 ],
 "metadata": {
  "kernelspec": {
   "display_name": "Python 3 (ipykernel)",
   "language": "python",
   "name": "python3"
  },
  "language_info": {
   "codemirror_mode": {
    "name": "ipython",
    "version": 3
   },
   "file_extension": ".py",
   "mimetype": "text/x-python",
   "name": "python",
   "nbconvert_exporter": "python",
   "pygments_lexer": "ipython3",
   "version": "3.8.10"
  }
 },
 "nbformat": 4,
 "nbformat_minor": 4
}
